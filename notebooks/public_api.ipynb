{
 "cells": [
  {
   "cell_type": "markdown",
   "metadata": {},
   "source": [
    "# Suggestion for API"
   ]
  },
  {
   "cell_type": "code",
   "execution_count": null,
   "metadata": {
    "collapsed": true
   },
   "outputs": [],
   "source": [
    "import numpy as np\n",
    "from scipy import stats\n",
    "\n",
    "import elfi\n",
    "from elfi import methods, simulators\n",
    "\n",
    "def autocov(lag, x):\n",
    "    \"\"\"\n",
    "    Normalized autocovariance (i.e. autocorrelation) assuming a (weak) stationary process.\n",
    "    Assuming univariate stochastic process with realizations in rows\n",
    "    \"\"\"\n",
    "    mu = np.mean(x, axis=1, keepdims=True)\n",
    "    var = np.var(x, axis=1, keepdims=True, ddof=1)\n",
    "    # Autocovariance\n",
    "    C = np.mean(x[:,lag:] * x[:,:-lag], axis=1, keepdims=True) - mu**2\n",
    "    # Normalize\n",
    "    tau = C / var\n",
    "    return tau"
   ]
  },
  {
   "cell_type": "markdown",
   "metadata": {},
   "source": [
    "The graph dependencies are described through decorators. Using scipy distributions as priors directly almost works. They get converted to elfi distributions correctly but there is no way to reference to the generated node in the BOLFI method."
   ]
  },
  {
   "cell_type": "code",
   "execution_count": null,
   "metadata": {
    "collapsed": false
   },
   "outputs": [],
   "source": [
    "# t1 = stats.uniform(0, 2)\n",
    "# almost works but there is no smart way to reference to the generated elfi distribution at the moment\n",
    "\n",
    "t1 = elfi.Prior('t1', 'uniform',0, 1)\n",
    "t2 = elfi.Prior('t2', 'uniform', 0, 1)\n",
    "\n",
    "MA2 = simulators.MA2(n_obs=1000, t1_act=0.6, t2_act=0.2, t1=t1, t2=t2)\n",
    "\n",
    "@elfi.summary(MA2)\n",
    "def S1(x):\n",
    "    \"\"\"Compute a summary statistic from the results of the MA1 node.\"\"\"\n",
    "    return autocov(lag=1, x=x)\n",
    "\n",
    "\n",
    "@elfi.summary(MA2)\n",
    "def S2(x):\n",
    "    \"\"\"compute a summary from MA2.\"\"\"\n",
    "    return autocov(lag=2, x=x)\n",
    "\n",
    "\n",
    "@elfi.discrepancy(S1, S2)\n",
    "def D(x, y):\n",
    "    \"\"\"Compute the discrepancy\"\"\"\n",
    "    return np.linalg.norm(np.array(x) - np.array(y), ord=2, axis=0)\n",
    "\n",
    "elfi.draw_model(D)"
   ]
  },
  {
   "cell_type": "code",
   "execution_count": null,
   "metadata": {
    "collapsed": false
   },
   "outputs": [],
   "source": [
    "n_sim = 60\n",
    "n_batch = 4  # find automatically from nr. of cores?\n",
    "\n",
    "# get rid of explicit dimensions in GPyModel use len(param_nodes)?\n",
    "gp_model = elfi.GPyModel(input_dim=2, bounds=((0,1),(0,1)), kernel_var=0.3, kernel_scale=0.2, noise_var=0.01)\n",
    "bolfi = methods.BOLFI(D, [t1, t2], batch_size=n_batch, n_surrogate_samples=n_sim, model=gp_model)\n",
    "post = bolfi.infer()"
   ]
  },
  {
   "cell_type": "code",
   "execution_count": null,
   "metadata": {
    "collapsed": false
   },
   "outputs": [],
   "source": [
    "%matplotlib notebook\n",
    "p = bolfi.plot()"
   ]
  },
  {
   "cell_type": "code",
   "execution_count": null,
   "metadata": {
    "collapsed": false
   },
   "outputs": [],
   "source": [
    "# Not 2d yet\n",
    "#p = post.plot()\n",
    "\n",
    "p = elfi.visualization.plot(lambda x: bolfi.model.gp.predict(x)[0], ((0,1), (0,1)), type='contour')"
   ]
  },
  {
   "cell_type": "code",
   "execution_count": null,
   "metadata": {
    "collapsed": false
   },
   "outputs": [],
   "source": [
    "p = elfi.visualization.plot(lambda x: bolfi.model.gp.predict(x)[0], ((0,1), (0,1)), type='surface')"
   ]
  },
  {
   "cell_type": "code",
   "execution_count": null,
   "metadata": {
    "collapsed": false
   },
   "outputs": [],
   "source": [
    "bolfi.display()"
   ]
  },
  {
   "cell_type": "markdown",
   "metadata": {},
   "source": [
    "# Ideas for improvement"
   ]
  },
  {
   "cell_type": "markdown",
   "metadata": {},
   "source": [
    "It would be better to be able to use keyword asguments for the nodes to link them to the function arguments. Using just arguments is a bit brittle especially since we are heavily using `super()` calls.\n",
    "\n",
    "We could define some properties of the domains of the arguments in function annotations (py3 only). This way for example we wouldn't have to pass bounds explicity to each method that may use them. We could also have other information there. Such as discretness, separability from other arguments etc. This would possibly also allow for transformations of 1d outputs so they wouldn't have to be wrapped in `numpy.atleast_2d`."
   ]
  },
  {
   "cell_type": "code",
   "execution_count": null,
   "metadata": {
    "collapsed": true
   },
   "outputs": [],
   "source": [
    "class FooDomain:\n",
    "    def __init__(self, *args, **kwargs):\n",
    "        pass\n",
    "    \n",
    "class BarDomain:\n",
    "    def __init__(self, *args, **kwargs):\n",
    "        pass\n",
    "\n",
    "@elfi.simulator(t1=stats.uniform(0, 1), t2=stats.uniform(0, 1))\n",
    "def MA2_simulator(t1: FooDomain(bounds=(0, 1)),\n",
    "                  t2: FooDomain(bounds=(0, 1))) -> BarDomain():\n",
    "#     generate_data(t1, t2)\n",
    "    pass"
   ]
  }
 ],
 "metadata": {
  "kernelspec": {
   "display_name": "Python 3",
   "language": "python",
   "name": "python3"
  },
  "language_info": {
   "codemirror_mode": {
    "name": "ipython",
    "version": 3
   },
   "file_extension": ".py",
   "mimetype": "text/x-python",
   "name": "python",
   "nbconvert_exporter": "python",
   "pygments_lexer": "ipython3",
   "version": "3.5.2"
  }
 },
 "nbformat": 4,
 "nbformat_minor": 0
}
