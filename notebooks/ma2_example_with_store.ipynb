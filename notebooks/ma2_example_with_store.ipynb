{
 "cells": [
  {
   "cell_type": "code",
   "execution_count": 1,
   "metadata": {
    "collapsed": false
   },
   "outputs": [],
   "source": [
    "import sys\n",
    "# Assuming we are in the notebook directory add this so that we can import the library\n",
    "sys.path.append('..')\n",
    "\n",
    "import numpy as np\n",
    "import dask\n",
    "from dask.dot import dot_graph\n",
    "from elfi import *\n",
    "from elfi.examples.ma2 import MA2, autocov, distance\n",
    "from distributed import Client\n",
    "from functools import partial\n",
    "\n",
    "import matplotlib\n",
    "import matplotlib.pyplot as plt\n",
    "\n",
    "matplotlib.style.use('ggplot')\n",
    "%matplotlib inline"
   ]
  },
  {
   "cell_type": "code",
   "execution_count": 2,
   "metadata": {
    "collapsed": false
   },
   "outputs": [],
   "source": [
    "# Setup distributed\n",
    "# client = Client()\n",
    "# dask.set_options(get=client.get)"
   ]
  },
  {
   "cell_type": "code",
   "execution_count": 3,
   "metadata": {
    "collapsed": false
   },
   "outputs": [],
   "source": [
    "n = 100\n",
    "t1_0 = 0.6\n",
    "t2_0 = 0.2\n",
    "\n",
    "# Set up observed data y\n",
    "latents = np.random.randn(n+2)\n",
    "y = MA2(n, t1_0, t2_0, n_sim=1, latents=latents)\n",
    "\n",
    "# Plot\n",
    "# plt.figure(figsize=(11, 6));\n",
    "# plt.plot(np.arange(0,n),y[0,:]);\n",
    "# plt.scatter(np.arange(-2,n), latents);"
   ]
  },
  {
   "cell_type": "code",
   "execution_count": 4,
   "metadata": {
    "collapsed": false
   },
   "outputs": [],
   "source": [
    "# Set up the simulator\n",
    "simulator = partial(MA2, n)\n",
    "\n",
    "# Set up autocovariance summaries\n",
    "ac1 = partial(autocov, 1)\n",
    "ac2 = partial(autocov, 2)\n",
    "\n",
    "# Specify the graphical model\n",
    "t1 = Prior('t1', 'uniform', 0, 1)\n",
    "t2 = Prior('t2', 'uniform', 0, 1)\n",
    "Y = Simulator('MA2', simulator, t1, t2, observed=y)\n",
    "S1 = Summary('S1', ac1, Y)\n",
    "S2 = Summary('S2', ac2, Y)\n",
    "d = Discrepancy('d', distance, S1, S2, store=MemoryStore())"
   ]
  },
  {
   "cell_type": "code",
   "execution_count": 5,
   "metadata": {
    "collapsed": false
   },
   "outputs": [],
   "source": [
    "# Specify the number of simulations and set up rejection sampling\n",
    "N = 50000\n",
    "rej = Rejection(N, d, [t1, t2], 100000)"
   ]
  },
  {
   "cell_type": "code",
   "execution_count": 6,
   "metadata": {
    "collapsed": false
   },
   "outputs": [
    {
     "name": "stdout",
     "output_type": "stream",
     "text": [
      "CPU times: user 1.72 s, sys: 323 ms, total: 2.04 s\n",
      "Wall time: 6.58 s\n"
     ]
    }
   ],
   "source": [
    "# Time and run the simulator in parallel\n",
    "%time result = rej.infer(quantile=0.01)"
   ]
  },
  {
   "cell_type": "code",
   "execution_count": 7,
   "metadata": {
    "collapsed": false
   },
   "outputs": [
    {
     "name": "stdout",
     "output_type": "stream",
     "text": [
      "CPU times: user 395 ms, sys: 44.7 ms, total: 440 ms\n",
      "Wall time: 608 ms\n"
     ]
    }
   ],
   "source": [
    "%time result = rej.infer(quantile=0.01)"
   ]
  },
  {
   "cell_type": "code",
   "execution_count": 8,
   "metadata": {
    "collapsed": false
   },
   "outputs": [
    {
     "name": "stdout",
     "output_type": "stream",
     "text": [
      "Number of accepted samples 20000 with threshold 0.07\n",
      "Posterior means: 0.51 0.09\n"
     ]
    }
   ],
   "source": [
    "[t1_post, t2_post] = result['samples']\n",
    "print(\"Number of accepted samples {} with threshold {:.2f}\".format(len(t1_post), result['threshold']))\n",
    "print(\"Posterior means: {:.2f} {:.2f}\".format(t1_post.mean(), t2_post.mean()))"
   ]
  },
  {
   "cell_type": "code",
   "execution_count": 9,
   "metadata": {
    "collapsed": false
   },
   "outputs": [
    {
     "data": {
      "image/png": "[encoded data removed]",
      "text/plain": [
       "<matplotlib.figure.Figure at 0x7ff4102e0518>"
      ]
     },
     "metadata": {},
     "output_type": "display_data"
    }
   ],
   "source": [
    "fig, ax = plt.subplots(ncols=2, figsize=(14,5));\n",
    "ax[0].hist(t1_post, bins=20);\n",
    "ax[0].set_title(\"Posterior for t1\");\n",
    "ax[1].hist(t2_post, bins=20);\n",
    "ax[1].set_title(\"Posterior for t2\");"
   ]
  }
 ],
 "metadata": {
  "anaconda-cloud": {},
  "kernelspec": {
   "display_name": "Python [default]",
   "language": "python",
   "name": "python3"
  },
  "language_info": {
   "codemirror_mode": {
    "name": "ipython",
    "version": 3
   },
   "file_extension": ".py",
   "mimetype": "text/x-python",
   "name": "python",
   "nbconvert_exporter": "python",
   "pygments_lexer": "ipython3",
   "version": "3.5.2"
  }
 },
 "nbformat": 4,
 "nbformat_minor": 1
}
