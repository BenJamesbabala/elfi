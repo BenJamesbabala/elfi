{
 "cells": [
  {
   "cell_type": "code",
   "execution_count": null,
   "metadata": {
    "collapsed": false
   },
   "outputs": [],
   "source": [
    "import sys\n",
    "# Assuming we are in the notebook directory add this so that we can import the library\n",
    "sys.path.append('..')\n",
    "\n",
    "import numpy as np\n",
    "import elfi\n",
    "import elfi.examples.ma2 as elfi_examples\n",
    "from functools import partial\n",
    "\n",
    "import matplotlib\n",
    "import matplotlib.pyplot as plt\n",
    "\n",
    "matplotlib.style.use('ggplot')\n",
    "%matplotlib inline"
   ]
  },
  {
   "cell_type": "code",
   "execution_count": null,
   "metadata": {
    "collapsed": false,
    "scrolled": true
   },
   "outputs": [],
   "source": [
    "n = 100\n",
    "t1_0 = 0.6\n",
    "t2_0 = 0.2\n",
    "\n",
    "# Set up observed data y\n",
    "latents = np.random.randn(n+2)\n",
    "y = elfi_examples.MA2(n, t1_0, t2_0, n_sim=1, latents=latents)\n",
    "\n",
    "# Plot\n",
    "plt.figure(figsize=(11, 6));\n",
    "plt.plot(np.arange(0,n),y[0,:]);\n",
    "plt.scatter(np.arange(-2,n), latents);"
   ]
  },
  {
   "cell_type": "code",
   "execution_count": null,
   "metadata": {
    "collapsed": false
   },
   "outputs": [],
   "source": [
    "# Set up the simulator\n",
    "simulator = partial(elfi_examples.MA2, n)\n",
    "\n",
    "# Set up autocovariance summaries\n",
    "ac1 = partial(elfi_examples.autocov, 1)\n",
    "ac2 = partial(elfi_examples.autocov, 2)\n",
    "\n",
    "# Specify the graphical model\n",
    "t1 = elfi.Prior('t1', 'uniform', 0, 1)\n",
    "t2 = elfi.Prior('t2', 'uniform', 0, 1)\n",
    "Y = elfi.Simulator('MA2', simulator, t1, t2, observed=y)\n",
    "S1 = elfi.Summary('S1', ac1, Y)\n",
    "S2 = elfi.Summary('S2', ac2, Y)\n",
    "d = elfi.Discrepancy('d', elfi_examples.distance, S1, S2, store=elfi.MemoryStore())"
   ]
  },
  {
   "cell_type": "code",
   "execution_count": null,
   "metadata": {
    "collapsed": false
   },
   "outputs": [],
   "source": [
    "# Specify the number of simulations and set up rejection sampling\n",
    "rej = elfi.Rejection(d, [t1, t2], batch_size=100000)\n",
    "N = 50000"
   ]
  },
  {
   "cell_type": "code",
   "execution_count": null,
   "metadata": {
    "collapsed": false
   },
   "outputs": [],
   "source": [
    "# Time and run the simulator in parallel\n",
    "%time result = rej.sample(N, quantile=0.01)"
   ]
  },
  {
   "cell_type": "code",
   "execution_count": null,
   "metadata": {
    "collapsed": false
   },
   "outputs": [],
   "source": [
    "# Run again, but this time we are able to use the cached results\n",
    "%time result = rej.sample(N, quantile=0.01)"
   ]
  },
  {
   "cell_type": "code",
   "execution_count": null,
   "metadata": {
    "collapsed": false
   },
   "outputs": [],
   "source": [
    "[t1_post, t2_post] = result['samples']\n",
    "print(\"Number of accepted samples {} with threshold {:.2f}\".format(len(t1_post), result['threshold']))\n",
    "print(\"Posterior means: {:.2f} {:.2f}\".format(t1_post.mean(), t2_post.mean()))"
   ]
  },
  {
   "cell_type": "code",
   "execution_count": null,
   "metadata": {
    "collapsed": false
   },
   "outputs": [],
   "source": [
    "fig, ax = plt.subplots(ncols=2, figsize=(14,5));\n",
    "ax[0].hist(t1_post, bins=20);\n",
    "ax[0].set_title(\"Posterior for t1\");\n",
    "ax[1].hist(t2_post, bins=20);\n",
    "ax[1].set_title(\"Posterior for t2\");"
   ]
  }
 ],
 "metadata": {
  "anaconda-cloud": {},
  "kernelspec": {
   "display_name": "Python 3",
   "language": "python",
   "name": "python3"
  },
  "language_info": {
   "codemirror_mode": {
    "name": "python3",
    "version": 3
   },
   "file_extension": ".py",
   "mimetype": "text/x-python",
   "name": "python3",
   "nbconvert_exporter": "python",
   "pygments_lexer": "ipython3",
   "version": ""
  }
 },
 "nbformat": 4,
 "nbformat_minor": 1
}
