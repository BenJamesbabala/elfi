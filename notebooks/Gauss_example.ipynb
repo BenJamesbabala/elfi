{
 "cells": [
  {
   "cell_type": "code",
   "execution_count": 1,
   "metadata": {
    "collapsed": false
   },
   "outputs": [],
   "source": [
    "import sys\n",
    "# Assuming we are in the notebook directory add this so that we can import the library\n",
    "sys.path.append('..')\n",
    "\n",
    "import time\n",
    "\n",
    "import numpy as np\n",
    "from abcpy.core import *\n",
    "from abcpy.distributions import *\n",
    "from distributed import Client\n",
    "from dask.dot import dot_graph\n",
    "from functools import partial\n",
    "\n",
    "import matplotlib\n",
    "import matplotlib.pyplot as plt\n",
    "\n",
    "matplotlib.style.use('ggplot')\n",
    "%matplotlib inline\n"
   ]
  },
  {
   "cell_type": "code",
   "execution_count": 2,
   "metadata": {
    "collapsed": false
   },
   "outputs": [],
   "source": [
    "client = Client()"
   ]
  },
  {
   "cell_type": "code",
   "execution_count": 3,
   "metadata": {
    "collapsed": true
   },
   "outputs": [],
   "source": [
    "def normal_simu(n, mu, prng=None, latents=None):\n",
    "    if latents is None:\n",
    "        if prng is None:\n",
    "            prng = np.random.RandomState()\n",
    "        latents = prng.randn(n)\n",
    "    u = mu + latents\n",
    "    y = u\n",
    "    return y\n",
    "\n",
    "def mean(y):\n",
    "    mu = np.mean(y, axis=1, keepdims=True)\n",
    "    return mu\n",
    "\n",
    "def distance(x, y):\n",
    "    d = np.linalg.norm( np.array(x) - np.array(y), ord=2, axis=0)\n",
    "    return d\n"
   ]
  },
  {
   "cell_type": "code",
   "execution_count": 4,
   "metadata": {
    "collapsed": false
   },
   "outputs": [
    {
     "data": {
      "image/png": "[encoded data removed]",
      "text/plain": [
       "<matplotlib.figure.Figure at 0x117c996a0>"
      ]
     },
     "metadata": {},
     "output_type": "display_data"
    }
   ],
   "source": [
    "n = 1000\n",
    "mu = 1.6\n",
    "\n",
    "# Set up observed data y\n",
    "latents = np.random.randn(n)\n",
    "y = normal_simu(n, mu, latents=latents)\n",
    "\n",
    "# Plot\n",
    "plt.hist(y);"
   ]
  },
  {
   "cell_type": "code",
   "execution_count": 5,
   "metadata": {
    "collapsed": false
   },
   "outputs": [
    {
     "name": "stdout",
     "output_type": "stream",
     "text": [
      "Elapsed time 5 sec\n"
     ]
    }
   ],
   "source": [
    "# Set up the simulator\n",
    "simulator = partial(normal_simu, n)\n",
    "\n",
    "# Specify the graphical model\n",
    "mu = Prior('mu', 'uniform', 0, 4)\n",
    "Y = Simulator('normal_simu', simulator, mu, observed=y)\n",
    "S1 = Summary('S1', mean, Y)\n",
    "d = Discrepancy('d', distance, S1)\n",
    "\n",
    "# Specify the number of simulations\n",
    "N = 1000000\n",
    "\n",
    "# Time and run parallel\n",
    "s = time.time()\n",
    "dists = d.generate(N, batch_size=10000).compute()\n",
    "\n",
    "print(\"Elapsed time %d sec\" % (time.time() - s))\n",
    "\n",
    "# Take the parameters\n",
    "mu_sample = mu.generate(N).compute()"
   ]
  },
  {
   "cell_type": "code",
   "execution_count": 6,
   "metadata": {
    "collapsed": false
   },
   "outputs": [
    {
     "name": "stdout",
     "output_type": "stream",
     "text": [
      "Number of accepted samples 5015\n"
     ]
    }
   ],
   "source": [
    "# Set threshold and reject to get posteriors\n",
    "eps = 0.01\n",
    "accepts = dists < eps\n",
    "mu_post = mu_sample[accepts]\n",
    "print(\"Number of accepted samples %d\" % sum(accepts))"
   ]
  },
  {
   "cell_type": "code",
   "execution_count": 7,
   "metadata": {
    "collapsed": false
   },
   "outputs": [
    {
     "name": "stdout",
     "output_type": "stream",
     "text": [
      "Posterior for $\\mu$\n"
     ]
    },
    {
     "data": {
      "image/png": "[encoded data removed]",
      "text/plain": [
       "<matplotlib.figure.Figure at 0x10954a978>"
      ]
     },
     "metadata": {},
     "output_type": "display_data"
    }
   ],
   "source": [
    "if len(mu_post) > 0:\n",
    "    print(\"Posterior for $\\mu$\")\n",
    "    plt.hist(mu_post, bins=20)\n",
    "else:\n",
    "    print(\"No accepted samples\")"
   ]
  },
  {
   "cell_type": "code",
   "execution_count": null,
   "metadata": {
    "collapsed": true
   },
   "outputs": [],
   "source": []
  }
 ],
 "metadata": {
  "anaconda-cloud": {},
  "kernelspec": {
   "display_name": "Python [Root]",
   "language": "python",
   "name": "Python [Root]"
  },
  "language_info": {
   "codemirror_mode": {
    "name": "ipython",
    "version": 3
   },
   "file_extension": ".py",
   "mimetype": "text/x-python",
   "name": "python",
   "nbconvert_exporter": "python",
   "pygments_lexer": "ipython3",
   "version": "3.5.2"
  }
 },
 "nbformat": 4,
 "nbformat_minor": 1
}
