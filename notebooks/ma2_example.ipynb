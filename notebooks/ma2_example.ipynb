{
 "cells": [
  {
   "cell_type": "code",
   "execution_count": null,
   "metadata": {
    "collapsed": false
   },
   "outputs": [],
   "source": [
    "import sys\n",
    "# Assuming we are in the notebook directory add this so that we can import the library\n",
    "sys.path.append('..')\n",
    "\n",
    "import time\n",
    "\n",
    "import numpy as np\n",
    "import dask\n",
    "from abcpy.core import *\n",
    "from abcpy.distributions import *\n",
    "from abcpy.examples.ma2 import MA2, autocov, distance\n",
    "from distributed import Client\n",
    "from dask.dot import dot_graph\n",
    "from functools import partial\n",
    "\n",
    "import matplotlib\n",
    "import matplotlib.pyplot as plt\n",
    "\n",
    "matplotlib.style.use('ggplot')\n",
    "%matplotlib inline\n"
   ]
  },
  {
   "cell_type": "code",
   "execution_count": null,
   "metadata": {
    "collapsed": false
   },
   "outputs": [],
   "source": [
    "# Setup distributed\n",
    "# client = Client()\n",
    "# dask.set_options(get=client.get)"
   ]
  },
  {
   "cell_type": "code",
   "execution_count": null,
   "metadata": {
    "collapsed": false
   },
   "outputs": [],
   "source": [
    "n = 1000\n",
    "t1 = 0.6\n",
    "t2 = 0.2\n",
    "\n",
    "# Set up observed data y\n",
    "latents = np.random.randn(n+2)\n",
    "y = MA2(n, 1, t1, t2, latents=latents)\n",
    "\n",
    "# Plot\n",
    "plt.figure(figsize=(11, 6));\n",
    "plt.plot(np.arange(0,n),y[0,:]);\n",
    "plt.scatter(np.arange(-2,n), latents);"
   ]
  },
  {
   "cell_type": "code",
   "execution_count": null,
   "metadata": {
    "collapsed": false
   },
   "outputs": [],
   "source": [
    "# Set up the simulator\n",
    "simulator = partial(MA2, n)\n",
    "\n",
    "# Set up autocovariance summaries\n",
    "ac1 = partial(autocov, 1)\n",
    "ac2 = partial(autocov, 2)\n",
    "\n",
    "# Specify the graphical model\n",
    "t1 = Prior('t1', 'uniform', 0, 1)\n",
    "t2 = Prior('t2', 'uniform', 0, 1)\n",
    "Y = Simulator('MA2', simulator, t1, t2, observed=y)\n",
    "S1 = Summary('S1', ac1, Y)\n",
    "S2 = Summary('S2', ac2, Y)\n",
    "d = Discrepancy('d', distance, S1, S2)\n",
    "\n",
    "# Specify the number of simulations\n",
    "N = 2000000\n",
    "\n",
    "# Time and run the simulator in parallel\n",
    "s = time.time()\n",
    "dists = d.generate(N, batch_size=5000).compute()\n",
    "\n",
    "print(\"Elapsed time %d sec\" % (time.time() - s))\n",
    "\n",
    "# Take the parameters\n",
    "t1_sample = t1.generate(N).compute()\n",
    "t2_sample = t2.generate(N).compute()"
   ]
  },
  {
   "cell_type": "code",
   "execution_count": null,
   "metadata": {
    "collapsed": false
   },
   "outputs": [],
   "source": [
    "# Set threshold and reject to get posteriors\n",
    "eps = 2\n",
    "accepts = dists < eps\n",
    "t1_post = t1_sample[accepts]\n",
    "t2_post = t2_sample[accepts]\n",
    "print(\"Number of accepted samples %d\" % sum(accepts))"
   ]
  },
  {
   "cell_type": "code",
   "execution_count": null,
   "metadata": {
    "collapsed": false
   },
   "outputs": [],
   "source": [
    "if len(t1_post) > 0:\n",
    "    print(\"Posterior for t1\")\n",
    "    plt.hist(t1_post, bins=20)\n",
    "else:\n",
    "    print(\"No accepted samples\")"
   ]
  },
  {
   "cell_type": "code",
   "execution_count": null,
   "metadata": {
    "collapsed": false
   },
   "outputs": [],
   "source": [
    "if len(t2_post) > 0:\n",
    "    print(\"Posterior for t2\")\n",
    "    plt.hist(t2_post, bins=20)\n",
    "else:\n",
    "    print(\"No accepted samples\")"
   ]
  }
 ],
 "metadata": {
  "anaconda-cloud": {},
  "kernelspec": {
   "display_name": "Python [conda env:abc4py]",
   "language": "python",
   "name": "conda-env-abc4py-py"
  },
  "language_info": {
   "codemirror_mode": {
    "name": "ipython",
    "version": 3
   },
   "file_extension": ".py",
   "mimetype": "text/x-python",
   "name": "python",
   "nbconvert_exporter": "python",
   "pygments_lexer": "ipython3",
   "version": "3.5.2"
  }
 },
 "nbformat": 4,
 "nbformat_minor": 1
}
